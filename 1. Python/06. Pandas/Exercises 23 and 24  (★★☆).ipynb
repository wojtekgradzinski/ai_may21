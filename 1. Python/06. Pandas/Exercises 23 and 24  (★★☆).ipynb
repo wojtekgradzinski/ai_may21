{
 "cells": [
  {
   "cell_type": "code",
   "execution_count": 5,
   "id": "comic-license",
   "metadata": {},
   "outputs": [],
   "source": [
    "# import the needed libraries and datasets\n",
    "import numpy as np\n",
    "import pandas as pd"
   ]
  },
  {
   "cell_type": "markdown",
   "id": "after-lithuania",
   "metadata": {},
   "source": [
    "**23.** Given a DataFrame of numeric values, say\n",
    "```python\n",
    "df = pd.DataFrame(np.random.random(size=(5, 3))) # a 5x3 frame of float values\n",
    "```\n",
    "\n",
    "how do you subtract the row mean from each element in the row?"
   ]
  },
  {
   "cell_type": "code",
   "execution_count": 22,
   "id": "supported-bicycle",
   "metadata": {},
   "outputs": [
    {
     "output_type": "stream",
     "name": "stdout",
     "text": [
      "Original DATA:\n          0         1         2\n0  0.493454  0.914341  0.392583\n1  0.271639  0.382989  0.265881\n2  0.591940  0.559327  0.365029\n3  0.327814  0.389788  0.671015\n4  0.836772  0.129309  0.137114\n\nDATA after mean substraction:\n          0         1         2\n0 -0.106672  0.314216 -0.207543\n1 -0.035198  0.076153 -0.040955\n2  0.086508  0.053895 -0.140403\n3 -0.135058 -0.073085  0.208143\n4  0.469041 -0.238423 -0.230618\n"
     ]
    }
   ],
   "source": [
    "df = pd.DataFrame(np.random.random(size=(5, 3)))\n",
    "\n",
    "print('Original DATA:')\n",
    "print(df)\n",
    "new = df.sub(df.mean(axis=1), axis=0)\n",
    "\n",
    "print('\\nDATA after mean substraction:')\n",
    "print(new)\n",
    "\n"
   ]
  },
  {
   "cell_type": "markdown",
   "id": "severe-count",
   "metadata": {},
   "source": [
    "**24.** Suppose you have DataFrame with 10 columns of real numbers, for example:\n",
    "\n",
    "```python\n",
    "df = pd.DataFrame(np.random.random(size=(5, 10)), columns=list('abcdefghij'))\n",
    "```\n",
    "Which column of numbers has the smallest sum? (Find that column's label.)"
   ]
  },
  {
   "cell_type": "code",
   "execution_count": 43,
   "id": "czech-superior",
   "metadata": {},
   "outputs": [
    {
     "output_type": "stream",
     "name": "stdout",
     "text": [
      "\noriginal DATA:\n          a         b         c         d         e         f         g  \\\n0  0.078612  0.770528  0.853687  0.518964  0.580224  0.288720  0.705986   \n1  0.195910  0.777201  0.513331  0.854124  0.490771  0.720015  0.542776   \n2  0.977203  0.212981  0.617450  0.731944  0.929349  0.284982  0.943888   \n3  0.412334  0.203400  0.407401  0.900155  0.238214  0.798732  0.877081   \n4  0.205935  0.533597  0.651316  0.381598  0.341014  0.796076  0.938330   \n\n          h         i         j  \n0  0.862513  0.469271  0.128169  \n1  0.907079  0.247771  0.766147  \n2  0.524355  0.157257  0.030078  \n3  0.214212  0.004659  0.993261  \n4  0.663466  0.880660  0.165695  \n\nCulumn sums:\na    1.869995\nb    2.497707\nc    3.043185\nd    3.386785\ne    2.579571\nf    2.888524\ng    4.008061\nh    3.171625\ni    1.759619\nj    2.083351\ndtype: float64\n\nSmallest sum collumn:\na    4\nb    0\nc    2\nd    3\ne    2\nf    2\ng    2\nh    1\ni    3\nj    0\ndtype: int64\n"
     ]
    }
   ],
   "source": [
    "df = pd.DataFrame(np.random.random(size=(5, 10)), columns=list('abcdefghij'))\n",
    "\n",
    "print('\\noriginal DATA:')\n",
    "print(df)\n",
    "\n",
    "sums = df.sum(axis=0)\n",
    "print('\\nCulumn sums:') \n",
    "print(sums)\n",
    "\n",
    "minimums = minvalueIndexLabel = sums.idxmin()\n",
    "print('\\nSmallest sum collumn:')\n",
    "print(minimum)\n"
   ]
  },
  {
   "cell_type": "code",
   "execution_count": 49,
   "metadata": {},
   "outputs": [
    {
     "output_type": "stream",
     "name": "stdout",
     "text": [
      "\noriginal DATA:\n          a         b         c         d         e         f         g  \\\n0  0.053249  0.664753  0.923145  0.712313  0.669771  0.721629  0.427596   \n1  0.458028  0.365907  0.745141  0.705698  0.175090  0.766340  0.021023   \n2  0.654822  0.920894  0.372505  0.433847  0.340728  0.682680  0.133205   \n3  0.130105  0.921923  0.006546  0.684610  0.437149  0.661193  0.395452   \n4  0.224750  0.891424  0.859588  0.758005  0.681749  0.024093  0.727674   \n\n          h         i         j  \n0  0.466881  0.331977  0.119179  \n1  0.786843  0.905982  0.008691  \n2  0.462791  0.519381  0.099624  \n3  0.365375  0.243173  0.604501  \n4  0.318871  0.562090  0.713759  \n\nCulumn sums:\na    1.520954\nb    3.764902\nc    2.906925\nd    3.294473\ne    2.304487\nf    2.855934\ng    1.704951\nh    2.400761\ni    2.562602\nj    1.545755\ndtype: float64\n\nSmallest sums of coulmns:\na\n"
     ]
    }
   ],
   "source": [
    "df = pd.DataFrame(np.random.random(size=(5, 10)), columns=list('abcdefghij'))\n",
    "\n",
    "print('\\noriginal DATA:')\n",
    "print(df)\n",
    "\n",
    "sums = df.sum(axis=0)\n",
    "print('\\nCulumn sums:') \n",
    "print(sums)\n",
    "\n",
    "minimums = sums.idxmin()\n",
    "print('\\nSmallest sums of coulmns:')\n",
    "print(minimums)"
   ]
  },
  {
   "cell_type": "code",
   "execution_count": null,
   "metadata": {},
   "outputs": [],
   "source": []
  }
 ],
 "metadata": {
  "kernelspec": {
   "name": "python388jvsc74a57bd00c49cde67c9110c377b85774f48ff0fb8d9905162e9d31e616ccb3386ade4209",
   "display_name": "Python 3.8.8 64-bit ('base': conda)"
  },
  "language_info": {
   "codemirror_mode": {
    "name": "ipython",
    "version": 3
   },
   "file_extension": ".py",
   "mimetype": "text/x-python",
   "name": "python",
   "nbconvert_exporter": "python",
   "pygments_lexer": "ipython3",
   "version": "3.8.8"
  }
 },
 "nbformat": 4,
 "nbformat_minor": 5
}