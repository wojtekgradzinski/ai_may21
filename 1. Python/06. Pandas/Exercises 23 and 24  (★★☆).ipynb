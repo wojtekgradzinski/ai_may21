{
 "cells": [
  {
   "cell_type": "code",
   "execution_count": 5,
   "id": "comic-license",
   "metadata": {},
   "outputs": [],
   "source": [
    "# import the needed libraries and datasets\n",
    "import numpy as np\n",
    "import pandas as pd"
   ]
  },
  {
   "cell_type": "markdown",
   "id": "after-lithuania",
   "metadata": {},
   "source": [
    "**23.** Given a DataFrame of numeric values, say\n",
    "```python\n",
    "df = pd.DataFrame(np.random.random(size=(5, 3))) # a 5x3 frame of float values\n",
    "```\n",
    "\n",
    "how do you subtract the row mean from each element in the row?"
   ]
  },
  {
   "cell_type": "code",
   "execution_count": 51,
   "id": "supported-bicycle",
   "metadata": {},
   "outputs": [
    {
     "output_type": "stream",
     "name": "stdout",
     "text": [
      "Original DATA:\n          0         1         2\n0  0.648815  0.673240  0.017012\n1  0.132401  0.884051  0.507535\n2  0.864256  0.774071  0.759201\n3  0.532570  0.883354  0.204513\n4  0.765513  0.252759  0.328902\n\nDATA after mean substraction:\n          0         1         2\n0  0.202459  0.226884 -0.429344\n1 -0.375594  0.376055 -0.000461\n2  0.065080 -0.025105 -0.039975\n3 -0.007576  0.343209 -0.335633\n4  0.316455 -0.196299 -0.120156\n"
     ]
    }
   ],
   "source": [
    "df = pd.DataFrame(np.random.random(size=(5, 3)))\n",
    "\n",
    "print('Original DATA:')\n",
    "print(df)\n",
    "new = df.sub(df.mean(axis=1), axis=0)\n",
    "\n",
    "print('\\nDATA after mean substraction:')\n",
    "print(new)\n",
    "\n"
   ]
  },
  {
   "cell_type": "markdown",
   "id": "severe-count",
   "metadata": {},
   "source": [
    "**24.** Suppose you have DataFrame with 10 columns of real numbers, for example:\n",
    "\n",
    "```python\n",
    "df = pd.DataFrame(np.random.random(size=(5, 10)), columns=list('abcdefghij'))\n",
    "```\n",
    "Which column of numbers has the smallest sum? (Find that column's label.)"
   ]
  },
  {
   "cell_type": "code",
   "execution_count": 54,
   "metadata": {},
   "outputs": [
    {
     "output_type": "stream",
     "name": "stdout",
     "text": [
      "\noriginal DATA:\n          a         b         c         d         e         f         g  \\\n0  0.105549  0.363175  0.857042  0.518178  0.270394  0.600807  0.672335   \n1  0.927551  0.500982  0.208353  0.136519  0.903696  0.522599  0.212313   \n2  0.378902  0.698878  0.170134  0.433554  0.131145  0.103634  0.392325   \n3  0.046124  0.897432  0.153865  0.430924  0.809848  0.854009  0.792708   \n4  0.522487  0.630381  0.135055  0.165302  0.310716  0.876850  0.159666   \n\n          h         i         j  \n0  0.087119  0.661350  0.575261  \n1  0.488257  0.598414  0.281832  \n2  0.268342  0.758226  0.052630  \n3  0.919464  0.115755  0.631114  \n4  0.052179  0.125295  0.216779  \n\nCulumn sums:\na    1.980613\nb    3.090848\nc    1.524449\nd    1.684477\ne    2.425800\nf    2.957899\ng    2.229346\nh    1.815361\ni    2.259039\nj    1.757615\ndtype: float64\n\nSmallest sums of coulmns:\nc\n"
     ]
    }
   ],
   "source": [
    "df = pd.DataFrame(np.random.random(size=(5, 10)), columns=list('abcdefghij'))\n",
    "\n",
    "print('\\noriginal DATA:')\n",
    "print(df)\n",
    "\n",
    "sums = df.sum(axis=0)\n",
    "print('\\nCulumn sums:') \n",
    "print(sums)\n",
    "\n",
    "minimums = sums.idxmin()\n",
    "print('\\nSmallest sums of coulmns:')\n",
    "print(minimums)"
   ]
  },
  {
   "cell_type": "code",
   "execution_count": null,
   "metadata": {},
   "outputs": [],
   "source": []
  }
 ],
 "metadata": {
  "kernelspec": {
   "name": "python388jvsc74a57bd00c49cde67c9110c377b85774f48ff0fb8d9905162e9d31e616ccb3386ade4209",
   "display_name": "Python 3.8.8 64-bit ('base': conda)"
  },
  "language_info": {
   "codemirror_mode": {
    "name": "ipython",
    "version": 3
   },
   "file_extension": ".py",
   "mimetype": "text/x-python",
   "name": "python",
   "nbconvert_exporter": "python",
   "pygments_lexer": "ipython3",
   "version": "3.8.8"
  }
 },
 "nbformat": 4,
 "nbformat_minor": 5
}