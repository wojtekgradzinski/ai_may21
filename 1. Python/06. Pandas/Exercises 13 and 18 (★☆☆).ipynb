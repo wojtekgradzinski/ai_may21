{
 "cells": [
  {
   "cell_type": "code",
   "execution_count": 5,
   "id": "comic-license",
   "metadata": {},
   "outputs": [],
   "source": [
    "# import the needed libraries and datasets\n",
    "import pandas as pd\n",
    "import numpy as np\n",
    "\n",
    "\n"
   ]
  },
  {
   "cell_type": "markdown",
   "id": "after-lithuania",
   "metadata": {},
   "source": [
    "**13. Change the age in row 'f' to 1.5.**"
   ]
  },
  {
   "cell_type": "code",
   "execution_count": 30,
   "id": "supported-bicycle",
   "metadata": {},
   "outputs": [
    {
     "output_type": "stream",
     "name": "stdout",
     "text": [
      " Original DATA:         name  age\na  Anastasia    1\nb       Dima    2\nc  Katherine    3\nd      James    4\ne      Emily    5\nf    Michael    6\ng    Matthew    7\nh      Laura    8\ni      Kevin    9\nj      Jonas   10\n \nChanged DATA:         name   age\na  Anastasia   1.0\nb       Dima   2.0\nc  Katherine   3.0\nd      James   4.0\ne      Emily   5.0\nf    Michael   1.5\ng    Matthew   7.0\nh      Laura   8.0\ni      Kevin   9.0\nj      Jonas  10.0\n"
     ]
    }
   ],
   "source": [
    "sample_data  = {'name': ['Anastasia', 'Dima', 'Katherine', 'James', 'Emily', 'Michael', 'Matthew', 'Laura', 'Kevin', 'Jonas'],\n",
    "        'age': [1, 2, 3, 4, 5, 6, 7, 8, 9, 10]}\n",
    "labels = ['a', 'b', 'c', 'd', 'e', 'f', 'g', 'h', 'i', 'j']\n",
    "df = pd.DataFrame(sample_data, index = labels)\n",
    "\n",
    "print(f' Original DATA: {df}')\n",
    "\n",
    "df.loc['f', 'age'] = 1.5\n",
    "\n",
    "print(f' \\nChanged DATA: {df}')"
   ]
  },
  {
   "cell_type": "code",
   "execution_count": 47,
   "metadata": {},
   "outputs": [
    {
     "output_type": "stream",
     "name": "stdout",
     "text": [
      "\nOriginal DATA:\n        name  age\na  Anastasia    1\nb       Dima    2\nc  Katherine    3\nd      James    4\ne      Emily    5\nf    Michael    6\ng    Matthew    7\nh      Laura    8\ni      Kevin    9\nj      Jonas   10\n\nChanged DATA:\n        name   age\na  Anastasia   1.0\nb       Dima   2.0\nc  Katherine   3.0\nd      James   4.0\ne      Emily   5.0\nf    Michael   1.5\ng    Matthew   7.0\nh      Laura   8.0\ni      Kevin   9.0\nj      Jonas  10.0\n"
     ]
    }
   ],
   "source": [
    "s_data  = {'name': ['Anastasia', 'Dima', 'Katherine', 'James', 'Emily', 'Michael', 'Matthew', 'Laura', 'Kevin', 'Jonas'],\n",
    "        \n",
    "        'age': [1, 2, 3, 4, 5, 6, 7, 8, 9, 10]}\n",
    "labels = ['a', 'b', 'c', 'd', 'e', 'f', 'g', 'h', 'i', 'j']\n",
    "\n",
    "df = pd.DataFrame(s_data , index=labels)        \n",
    "\n",
    "\n",
    "print(\"\\nOriginal DATA:\")\n",
    "print(df)\n",
    "print(\"\\nChanged DATA:\")\n",
    "df.loc['f', 'age'] = 1.5\n",
    "print(df)\n",
    "       "
   ]
  },
  {
   "source": [
    "**18. Sort df first by the values in the 'age' in decending order, then by the value in the 'visit' column in ascending order.**"
   ],
   "cell_type": "code",
   "metadata": {},
   "execution_count": null,
   "outputs": []
  },
  {
   "cell_type": "code",
   "execution_count": 68,
   "id": "czech-superior",
   "metadata": {},
   "outputs": [
    {
     "output_type": "stream",
     "name": "stdout",
     "text": [
      "\nOriginal DATA:\n        name  age  visit\na  Anastasia   21      1\nb       Dima   33      2\nc  Katherine   44      3\nd      James   55      4\ne      Emily   66      5\nf    Michael   77      6\ng    Matthew   88      7\nh      Laura   99      8\ni      Kevin   65      9\nj      Jonas   12     10\n\nChanged DATA:\n        name  age  visit\na  Anastasia   21      1\nb       Dima   33      2\nc  Katherine   44      3\nd      James   55      4\ne      Emily   66      5\nf    Michael   77      6\ng    Matthew   88      7\nh      Laura   99      8\ni      Kevin   65      9\nj      Jonas   12     10\n"
     ]
    }
   ],
   "source": [
    "s_data  = {'name': ['Anastasia', 'Dima', 'Katherine', 'James', 'Emily', 'Michael', 'Matthew', 'Laura', 'Kevin', 'Jonas'],\n",
    "        'age':   [21,33,44,55,66,77,88,99,65,12],\n",
    "        'visit': [1, 2, 3, 4, 5, 6, 7, 8, 9, 10]}\n",
    "labels = ['a', 'b', 'c', 'd', 'e', 'f', 'g', 'h', 'i', 'j']\n",
    "df = pd.DataFrame(s_data , index=labels)\n",
    "\n",
    "print(\"\\nOriginal DATA:\")\n",
    "print(df)\n",
    "\n",
    "df.sort_values(by=['age'], ascending=True)\n",
    "df.sort_values(by=['visit'], ascending=False)\n",
    "print(\"\\nChanged DATA:\")\n",
    "print(df)\n"
   ]
  },
  {
   "cell_type": "code",
   "execution_count": null,
   "metadata": {},
   "outputs": [],
   "source": []
  }
 ],
 "metadata": {
  "kernelspec": {
   "name": "python388jvsc74a57bd00c49cde67c9110c377b85774f48ff0fb8d9905162e9d31e616ccb3386ade4209",
   "display_name": "Python 3.8.8 64-bit ('base': conda)"
  },
  "language_info": {
   "codemirror_mode": {
    "name": "ipython",
    "version": 3
   },
   "file_extension": ".py",
   "mimetype": "text/x-python",
   "name": "python",
   "nbconvert_exporter": "python",
   "pygments_lexer": "ipython3",
   "version": "3.8.8"
  }
 },
 "nbformat": 4,
 "nbformat_minor": 5
}