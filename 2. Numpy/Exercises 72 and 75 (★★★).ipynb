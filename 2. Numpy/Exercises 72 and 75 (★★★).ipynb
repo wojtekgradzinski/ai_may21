{
 "cells": [
  {
   "cell_type": "code",
   "execution_count": 1,
   "id": "complimentary-handbook",
   "metadata": {
    "slideshow": {
     "slide_type": "slide"
    }
   },
   "outputs": [],
   "source": [
    "import numpy as np\n",
    "\n",
    "# Import the needed libraries"
   ]
  },
  {
   "cell_type": "markdown",
   "id": "pacific-kentucky",
   "metadata": {},
   "source": [
    "**72. How to swap two rows of an array?** "
   ]
  },
  {
   "cell_type": "code",
   "execution_count": 16,
   "id": "proper-reservoir",
   "metadata": {},
   "outputs": [
    {
     "output_type": "stream",
     "name": "stdout",
     "text": [
      " \noriginal array -> [[1 2 3]\n [6 5 4]\n [9 8 7]]\n \narray with 2 rows swap -> [[9 8 7]\n [6 5 4]\n [1 2 3]]\n"
     ]
    }
   ],
   "source": [
    "a = np.array([[1,2,3],[6,5,4],[9,8,7]])\n",
    "print(f' \\noriginal array -> {a}')\n",
    "\n",
    "a[[2,0]] = a[[0,2]]\n",
    "print(f' \\narray with 2 rows swap -> {a}')\n",
    "\n"
   ]
  },
  {
   "cell_type": "markdown",
   "id": "outer-encoding",
   "metadata": {},
   "source": [
    "**75. How to compute averages using a sliding window over an array?**"
   ]
  },
  {
   "cell_type": "code",
   "execution_count": 45,
   "id": "active-reply",
   "metadata": {},
   "outputs": [
    {
     "output_type": "execute_result",
     "data": {
      "text/plain": [
       "array([ 46.,  56.,  66.,  76.,  86.,  96., 106., 116., 126., 136., 146.,\n",
       "       156., 166., 176., 186., 196., 206., 216., 226., 236., 246., 256.,\n",
       "       266., 276., 286., 296., 306., 316., 326., 336., 346., 356., 366.,\n",
       "       376., 386., 396., 406., 416., 426., 436., 446., 456., 466., 476.,\n",
       "       486., 496., 506., 516., 526., 536., 546., 556., 566., 576., 586.,\n",
       "       596., 606., 616., 626., 636., 646., 656., 666., 676., 686., 696.,\n",
       "       706., 716., 726., 736., 746., 756., 766., 776., 786., 796., 806.,\n",
       "       816., 826., 836., 846., 856., 866., 876., 886., 896., 906., 916.,\n",
       "       926., 936., 946.])"
      ]
     },
     "metadata": {},
     "execution_count": 45
    }
   ],
   "source": [
    "def moving_average(a, n) :\n",
    "    test = np.cumsum(a, dtype=float)\n",
    "    test[n:] = test[n:] - test[:-n]\n",
    "    return test[n - 1:] / n\n",
    "\n",
    "moving_average(np.arange(1,1000,10),10)"
   ]
  },
  {
   "cell_type": "code",
   "execution_count": 25,
   "metadata": {},
   "outputs": [
    {
     "output_type": "stream",
     "name": "stdout",
     "text": [
      "arange([start,] stop[, step,], dtype=None, *, like=None)\n\nReturn evenly spaced values within a given interval.\n\nValues are generated within the half-open interval ``[start, stop)``\n(in other words, the interval including `start` but excluding `stop`).\nFor integer arguments the function is equivalent to the Python built-in\n`range` function, but returns an ndarray rather than a list.\n\nWhen using a non-integer step, such as 0.1, the results will often not\nbe consistent.  It is better to use `numpy.linspace` for these cases.\n\nParameters\n----------\nstart : integer or real, optional\n    Start of interval.  The interval includes this value.  The default\n    start value is 0.\nstop : integer or real\n    End of interval.  The interval does not include this value, except\n    in some cases where `step` is not an integer and floating point\n    round-off affects the length of `out`.\nstep : integer or real, optional\n    Spacing between values.  For any output `out`, this is the distance\n    between two adjacent values, ``out[i+1] - out[i]``.  The default\n    step size is 1.  If `step` is specified as a position argument,\n    `start` must also be given.\ndtype : dtype\n    The type of the output array.  If `dtype` is not given, infer the data\n    type from the other input arguments.\nlike : array_like\n    Reference object to allow the creation of arrays which are not\n    NumPy arrays. If an array-like passed in as ``like`` supports\n    the ``__array_function__`` protocol, the result will be defined\n    by it. In this case, it ensures the creation of an array object\n    compatible with that passed in via this argument.\n\n    .. note::\n        The ``like`` keyword is an experimental feature pending on\n        acceptance of :ref:`NEP 35 <NEP35>`.\n\n    .. versionadded:: 1.20.0\n\nReturns\n-------\narange : ndarray\n    Array of evenly spaced values.\n\n    For floating point arguments, the length of the result is\n    ``ceil((stop - start)/step)``.  Because of floating point overflow,\n    this rule may result in the last element of `out` being greater\n    than `stop`.\n\nSee Also\n--------\nnumpy.linspace : Evenly spaced numbers with careful handling of endpoints.\nnumpy.ogrid: Arrays of evenly spaced numbers in N-dimensions.\nnumpy.mgrid: Grid-shaped arrays of evenly spaced numbers in N-dimensions.\n\nExamples\n--------\n>>> np.arange(3)\narray([0, 1, 2])\n>>> np.arange(3.0)\narray([ 0.,  1.,  2.])\n>>> np.arange(3,7)\narray([3, 4, 5, 6])\n>>> np.arange(3,7,2)\narray([3, 5])\n"
     ]
    }
   ],
   "source": [
    "np.info(np.arange)"
   ]
  },
  {
   "cell_type": "code",
   "execution_count": null,
   "metadata": {},
   "outputs": [],
   "source": []
  }
 ],
 "metadata": {
  "kernelspec": {
   "name": "python388jvsc74a57bd00c49cde67c9110c377b85774f48ff0fb8d9905162e9d31e616ccb3386ade4209",
   "display_name": "Python 3.8.8 64-bit ('base': conda)"
  },
  "language_info": {
   "codemirror_mode": {
    "name": "ipython",
    "version": 3
   },
   "file_extension": ".py",
   "mimetype": "text/x-python",
   "name": "python",
   "nbconvert_exporter": "python",
   "pygments_lexer": "ipython3",
   "version": "3.8.8"
  }
 },
 "nbformat": 4,
 "nbformat_minor": 5
}