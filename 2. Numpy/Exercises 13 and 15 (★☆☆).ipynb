{
 "cells": [
  {
   "cell_type": "code",
   "execution_count": null,
   "id": "biological-worcester",
   "metadata": {},
   "outputs": [],
   "source": [
    "# Import the needed libraries"
   ]
  },
  {
   "cell_type": "markdown",
   "id": "champion-greensboro",
   "metadata": {},
   "source": [
    "**13. Create a 10x10 array with random values and find the minimum and maximum values**"
   ]
  },
  {
   "cell_type": "code",
   "execution_count": 23,
   "id": "joint-explorer",
   "metadata": {},
   "outputs": [
    {
     "output_type": "stream",
     "name": "stdout",
     "text": [
      " MATRIX 10x10 : \n\n   [[0.7082701  0.00231318 0.65300141 0.8521263  0.72761589 0.39915975\n  0.81985353 0.04659593 0.95681483 0.76419797]\n [0.17026495 0.16446004 0.53503675 0.78969802 0.37633651 0.75808053\n  0.97860635 0.10534641 0.78381837 0.66289145]\n [0.59792018 0.95477918 0.63100032 0.63929065 0.59228244 0.73654317\n  0.93623577 0.36181462 0.35460272 0.8585374 ]\n [0.11063212 0.28714811 0.9388063  0.46020395 0.30729362 0.83736311\n  0.39136691 0.5246268  0.09971433 0.93446999]\n [0.42906223 0.50223773 0.93052895 0.37408262 0.40502008 0.59406505\n  0.78206074 0.33845599 0.76079427 0.80019536]\n [0.23129914 0.35929783 0.43525227 0.36270814 0.31602476 0.62289426\n  0.67713386 0.84453966 0.54366491 0.20421129]\n [0.83289896 0.89640105 0.98600982 0.67254659 0.53389718 0.42274474\n  0.51585059 0.40514698 0.45620588 0.2012074 ]\n [0.26848615 0.23327712 0.53426045 0.36843041 0.31584597 0.630009\n  0.06585474 0.48681719 0.38125954 0.87075151]\n [0.99411093 0.52192223 0.41161865 0.10759028 0.00955426 0.35035105\n  0.1431205  0.84631355 0.20163902 0.6250065 ]\n [0.78538132 0.53747426 0.57631639 0.27836456 0.398381   0.61708053\n  0.06040654 0.51179101 0.42201797 0.00881887]]\n minimum value is:  0.0023131830536954334\n maximum value is:  0.9941109258179125\n"
     ]
    }
   ],
   "source": [
    "import random\n",
    "import numpy as np\n",
    "\n",
    "x = np.random.rand(10,10)\n",
    "minimum = np.min(x)\n",
    "maximum = np.max(x)\n",
    "print(f' MATRIX 10x10 : \\n\\n   {x}')\n",
    "print(f' minimum value is:  {minimum}')\n",
    "print(f' maximum value is:  {maximum}')"
   ]
  },
  {
   "cell_type": "markdown",
   "id": "exempt-organ",
   "metadata": {},
   "source": [
    "**15. Create a 2d array with 1 on the border and 0 inside**"
   ]
  },
  {
   "cell_type": "code",
   "execution_count": 55,
   "id": "sufficient-facility",
   "metadata": {},
   "outputs": [
    {
     "output_type": "stream",
     "name": "stdout",
     "text": [
      "Original array:\n[[1. 1. 1. 1. 1. 1. 1. 1. 1. 1.]\n [1. 1. 1. 1. 1. 1. 1. 1. 1. 1.]\n [1. 1. 1. 1. 1. 1. 1. 1. 1. 1.]\n [1. 1. 1. 1. 1. 1. 1. 1. 1. 1.]\n [1. 1. 1. 1. 1. 1. 1. 1. 1. 1.]\n [1. 1. 1. 1. 1. 1. 1. 1. 1. 1.]\n [1. 1. 1. 1. 1. 1. 1. 1. 1. 1.]\n [1. 1. 1. 1. 1. 1. 1. 1. 1. 1.]\n [1. 1. 1. 1. 1. 1. 1. 1. 1. 1.]\n [1. 1. 1. 1. 1. 1. 1. 1. 1. 1.]]\n1 on the border and 0 inside in the array\n[[1. 1. 1. 1. 1. 1. 1. 1. 1. 1.]\n [1. 0. 0. 0. 0. 0. 0. 0. 0. 1.]\n [1. 0. 0. 0. 0. 0. 0. 0. 0. 1.]\n [1. 0. 0. 0. 0. 0. 0. 0. 0. 1.]\n [1. 0. 0. 0. 0. 0. 0. 0. 0. 1.]\n [1. 0. 0. 0. 0. 0. 0. 0. 0. 1.]\n [1. 0. 0. 0. 0. 0. 0. 0. 0. 1.]\n [1. 0. 0. 0. 0. 0. 0. 0. 0. 1.]\n [1. 0. 0. 0. 0. 0. 0. 0. 0. 1.]\n [1. 1. 1. 1. 1. 1. 1. 1. 1. 1.]]\n"
     ]
    }
   ],
   "source": [
    "x = np.ones((10,10))\n",
    "print(\"Original array:\")\n",
    "print(x)\n",
    "print(\"1 on the border and 0 inside in the array\")\n",
    "x[1:-1,1:-1] = 0\n",
    "print(x)"
   ]
  },
  {
   "cell_type": "code",
   "execution_count": null,
   "metadata": {},
   "outputs": [],
   "source": []
  }
 ],
 "metadata": {
  "kernelspec": {
   "name": "python388jvsc74a57bd00c49cde67c9110c377b85774f48ff0fb8d9905162e9d31e616ccb3386ade4209",
   "display_name": "Python 3.8.8 64-bit ('base': conda)"
  },
  "language_info": {
   "codemirror_mode": {
    "name": "ipython",
    "version": 3
   },
   "file_extension": ".py",
   "mimetype": "text/x-python",
   "name": "python",
   "nbconvert_exporter": "python",
   "pygments_lexer": "ipython3",
   "version": "3.8.8"
  }
 },
 "nbformat": 4,
 "nbformat_minor": 5
}